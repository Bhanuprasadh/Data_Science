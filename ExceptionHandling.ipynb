{
  "nbformat": 4,
  "nbformat_minor": 0,
  "metadata": {
    "colab": {
      "provenance": [],
      "authorship_tag": "ABX9TyNR7wuxWJSZKokfq0NQvbz9"
    },
    "kernelspec": {
      "name": "python3",
      "display_name": "Python 3"
    },
    "language_info": {
      "name": "python"
    }
  },
  "cells": [
    {
      "cell_type": "markdown",
      "source": [
        "# 1.Explain why we have to use the Exception class while creating a Custom Exception."
      ],
      "metadata": {
        "id": "VEKxpwNppLxa"
      }
    },
    {
      "cell_type": "markdown",
      "source": [
        "In Python, the `Exception` class is the base class for all built-in exceptions. When creating custom exceptions, it's important to inherit from the `Exception` class to ensure that the custom exception behaves like a standard exception and has access to all the necessary properties and methods of the base class.\n",
        "\n",
        "Here are some reasons why the `Exception` class is used when creating custom exceptions:\n",
        "\n",
        "1. **Consistent Behavior**: Inheriting from the `Exception` class ensures that the custom exception behaves like other built-in exceptions in terms of handling and propagation. This makes the custom exception compatible with existing exception handling mechanisms in Python.\n",
        "\n",
        "2. **Standardized Structure**: By inheriting from the `Exception` class, the custom exception can utilize the standard structure and methods provided by the base class, such as `__init__()`, `__str__()`, and `__repr__()`. This allows you to define and customize the behavior of the custom exception using the same methods that are used by built-in exceptions.\n",
        "\n",
        "3. **Exception Hierarchy**: Inheriting from the `Exception` class helps to maintain a clear and organized hierarchy of exceptions, making it easier to understand the relationship between different types of exceptions in a program.\n",
        "\n",
        "4. **Error Handling**: When the custom exception is raised, it can be caught and handled using standard exception handling techniques, such as `try` and `except` blocks. This allows for consistent error handling practices throughout the codebase.\n",
        "\n",
        "By utilizing the `Exception` class as the base class for custom exceptions, you can ensure that the custom exceptions are well-integrated into the Python exception hierarchy and that they adhere to the standard conventions and behaviors of the language."
      ],
      "metadata": {
        "id": "xBqs_u12pQrK"
      }
    },
    {
      "cell_type": "markdown",
      "source": [
        "# 2.Write a python program to print Python Exception Hierarchy."
      ],
      "metadata": {
        "id": "aLN9A7L-pY6P"
      }
    },
    {
      "cell_type": "code",
      "source": [
        "# Python program to print the Python Exception Hierarchy\n",
        "\n",
        "# Function to print the exception hierarchy\n",
        "def print_exception_hierarchy(exception, indent=0):\n",
        "    print(' ' * indent + exception.__name__)\n",
        "    if issubclass(exception, Exception):\n",
        "        for sub_exception in exception.__subclasses__():\n",
        "            print_exception_hierarchy(sub_exception, indent + 4)\n",
        "\n",
        "# Print the Python Exception Hierarchy\n",
        "print_exception_hierarchy(BaseException)\n"
      ],
      "metadata": {
        "colab": {
          "base_uri": "https://localhost:8080/"
        },
        "id": "7O9RGzA_pYHw",
        "outputId": "82660881-1e7b-4ad6-8fc8-9cf6bed6beaa"
      },
      "execution_count": 1,
      "outputs": [
        {
          "output_type": "stream",
          "name": "stdout",
          "text": [
            "BaseException\n"
          ]
        }
      ]
    },
    {
      "cell_type": "markdown",
      "source": [
        "This program defines a function print_exception_hierarchy that recursively prints the Python Exception Hierarchy, starting from the BaseException class. It uses the __subclasses__() method to get the direct subclasses of each exception class and then prints the hierarchy with proper indentation. Running this program will print the Python Exception Hierarchy, showing the relationships between different exception classes."
      ],
      "metadata": {
        "id": "Ra8isn3epf3j"
      }
    },
    {
      "cell_type": "markdown",
      "source": [
        "# 3.What errors are defined in the ArithmeticError class? Explain any two with an example."
      ],
      "metadata": {
        "id": "i7xj4D9TpjuK"
      }
    },
    {
      "cell_type": "markdown",
      "source": [
        "The ArithmeticError class is a built-in Python exception class that serves as the base class for all errors that occur during arithmetic operations. It encompasses a range of specific arithmetic-related errors. Some of the errors defined in the ArithmeticError class include:\n",
        "\n",
        "ZeroDivisionError: This error is raised when the second argument of a division or modulo operation is zero. It indicates that an attempt was made to divide a number by zero. Here's an example:"
      ],
      "metadata": {
        "id": "zeZ0HJLYqnn7"
      }
    },
    {
      "cell_type": "code",
      "execution_count": null,
      "metadata": {
        "id": "yIAkts-8pEqp"
      },
      "outputs": [],
      "source": [
        "# Example of ZeroDivisionError\n",
        "try:\n",
        "    result = 5 / 0\n",
        "except ZeroDivisionError as e:\n",
        "    print(f\"Error: {e}\")"
      ]
    },
    {
      "cell_type": "markdown",
      "source": [
        "OverflowError: This error is raised when the result of an arithmetic operation is too large to be represented. It occurs when the result is outside the range of representable values. Here's an example:"
      ],
      "metadata": {
        "id": "4n9uk4dWqrZt"
      }
    },
    {
      "cell_type": "code",
      "source": [
        "# Example of OverflowError\n",
        "import math\n",
        "\n",
        "try:\n",
        "    result = math.exp(1000)\n",
        "except OverflowError as e:\n",
        "    print(f\"Error: {e}\")\n"
      ],
      "metadata": {
        "id": "lhNZCIb1qxN_"
      },
      "execution_count": null,
      "outputs": []
    },
    {
      "cell_type": "markdown",
      "source": [],
      "metadata": {
        "id": "e9_G20nrqvQn"
      }
    },
    {
      "cell_type": "markdown",
      "source": [
        "In the first example, the ZeroDivisionError is raised when attempting to divide 5 by 0, resulting in a division by zero error. In the second example, the OverflowError is raised when trying to calculate the exponential value of a large number, which exceeds the representable range of values. Both of these errors are subclasses of the ArithmeticError class."
      ],
      "metadata": {
        "id": "VO8F4Rw8qx_e"
      }
    },
    {
      "cell_type": "markdown",
      "source": [
        "# 4.Why LookupError class is used? Explain with an example KeyError and IndexError."
      ],
      "metadata": {
        "id": "rLoSpfafq444"
      }
    },
    {
      "cell_type": "markdown",
      "source": [
        "The LookupError class is a base class for all lookup-related errors in Python. It serves as a parent class for more specific lookup errors, such as KeyError and IndexError, and is intended to be a superclass for exceptions that are raised when a specified key or index is not found during a lookup operation.\n",
        "\n",
        "Here are two specific errors that are subclasses of the LookupError class:\n",
        "\n",
        "KeyError: This error is raised when a dictionary key is not found in the set of existing keys. It occurs when you try to access a key that does not exist in a dictionary. Here's an example:"
      ],
      "metadata": {
        "id": "W41597Q3rDhV"
      }
    },
    {
      "cell_type": "code",
      "source": [
        "# Example of KeyError\n",
        "my_dict = {'a': 1, 'b': 2, 'c': 3}\n",
        "\n",
        "try:\n",
        "    value = my_dict['d']\n",
        "except KeyError as e:\n",
        "    print(f\"Error: {e}\")\n"
      ],
      "metadata": {
        "id": "DCWwfExsrGhR"
      },
      "execution_count": null,
      "outputs": []
    },
    {
      "cell_type": "markdown",
      "source": [
        "IndexError: This error is raised when a sequence index is out of range. It occurs when you try to access an index that is not within the bounds of a sequence, such as a list or a string. Here's an example:"
      ],
      "metadata": {
        "id": "c1fnv6lgrIfl"
      }
    },
    {
      "cell_type": "code",
      "source": [
        "# Example of IndexError\n",
        "my_list = [1, 2, 3, 4, 5]\n",
        "\n",
        "try:\n",
        "    value = my_list[10]\n",
        "except IndexError as e:\n",
        "    print(f\"Error: {e}\")"
      ],
      "metadata": {
        "id": "QzqpZOFJrMEO"
      },
      "execution_count": null,
      "outputs": []
    },
    {
      "cell_type": "markdown",
      "source": [
        "In the KeyError example, the error is raised when trying to access a key 'd' in the dictionary my_dict, which does not exist in the dictionary. In the IndexError example, the error is raised when trying to access an element at index 10 in the list my_list, which is out of the range of the list indices. Both of these errors are subclasses of the LookupError class."
      ],
      "metadata": {
        "id": "txnlRWGBrOuK"
      }
    },
    {
      "cell_type": "markdown",
      "source": [
        "# 5.Explain ImportError. What is ModuleNotFoundError?"
      ],
      "metadata": {
        "id": "4UQ8LShsrYPp"
      }
    },
    {
      "cell_type": "markdown",
      "source": [
        "In Python, ImportError is an exception that is raised when an import statement fails to find the module definition or when there is an issue with importing a module. It generally occurs when the specified module is not found or when there are issues related to the import process. This can happen due to various reasons such as incorrect module name, missing module, or an error within the module during the import process.\n",
        "\n",
        "ModuleNotFoundError is a specific type of ImportError that is raised when a module could not be found during the import process. It is more specific than ImportError and is raised when the specified module does not exist or is not found in the Python search path.\n",
        "\n",
        "Here's an example to illustrate the ModuleNotFoundError:"
      ],
      "metadata": {
        "id": "aKmPo_31rgtk"
      }
    },
    {
      "cell_type": "code",
      "source": [
        "# Example of ModuleNotFoundError\n",
        "try:\n",
        "    import non_existent_module\n",
        "except ModuleNotFoundError as e:\n",
        "    print(f\"Error: {e}\")\n"
      ],
      "metadata": {
        "id": "RLvrfijkrlPd"
      },
      "execution_count": null,
      "outputs": []
    },
    {
      "cell_type": "markdown",
      "source": [
        "In this example, an attempt to import the non-existent module non_existent_module results in a ModuleNotFoundError because the specified module does not exist. This error helps to identify issues related to module imports and enables better debugging and error handling during the development process."
      ],
      "metadata": {
        "id": "6GADdS_Urnwx"
      }
    },
    {
      "cell_type": "markdown",
      "source": [
        "# 6.List down some best practices for exception handling in python."
      ],
      "metadata": {
        "id": "Si-WBLUfrp-j"
      }
    },
    {
      "cell_type": "markdown",
      "source": [
        "Exception handling is an essential aspect of writing robust and reliable code in Python. Here are some best practices for exception handling in Python:\n",
        "\n",
        "1. **Specific Exception Handling**: Catch specific exceptions rather than using a generic `except` statement. This allows you to handle different types of exceptions differently and provides more targeted error handling.\n",
        "\n",
        "2. **Use of try-except-else-finally**: Use the `try-except-else-finally` block for comprehensive exception handling. The `else` block can be used to run code that should execute only if no exceptions are raised, and the `finally` block can be used to execute cleanup code that must run regardless of whether an exception is raised.\n",
        "\n",
        "3. **Logging and Error Messages**: Use logging to record information about the occurrence of exceptions. Include informative error messages that provide details about the cause of the exception, making it easier to identify and debug issues.\n",
        "\n",
        "4. **Reraising Exceptions**: Reraise exceptions if you catch an exception and cannot handle it properly within the context. This helps to propagate the exception to a higher level for proper handling.\n",
        "\n",
        "5. **Custom Exception Classes**: Define custom exception classes for specific types of errors in your application. This allows you to create more meaningful and descriptive exceptions that can be easily recognized and handled appropriately.\n",
        "\n",
        "6. **Graceful Degradation**: Implement graceful degradation by handling exceptions in a way that allows the application to continue functioning, providing meaningful feedback to the user without crashing.\n",
        "\n",
        "7. **Avoid Bare Except Clauses**: Avoid using bare `except` clauses, as they can catch unexpected exceptions and make it difficult to identify and debug issues in the code.\n",
        "\n",
        "8. **Use Context Managers**: Use context managers, such as the `with` statement, to ensure that resources are properly managed and released, even in the presence of exceptions.\n",
        "\n",
        "By following these best practices, you can create more robust and maintainable code that is capable of handling various scenarios and exceptions effectively."
      ],
      "metadata": {
        "id": "Vt2d_kybrvCe"
      }
    }
  ]
}