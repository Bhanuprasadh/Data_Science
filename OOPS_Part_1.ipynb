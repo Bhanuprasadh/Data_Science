{
  "nbformat": 4,
  "nbformat_minor": 0,
  "metadata": {
    "colab": {
      "provenance": [],
      "authorship_tag": "ABX9TyNvpXKVsHb/w6+HqKlhL0VC",
      "include_colab_link": true
    },
    "kernelspec": {
      "name": "python3",
      "display_name": "Python 3"
    },
    "language_info": {
      "name": "python"
    }
  },
  "cells": [
    {
      "cell_type": "markdown",
      "metadata": {
        "id": "view-in-github",
        "colab_type": "text"
      },
      "source": [
        "<a href=\"https://colab.research.google.com/github/Bhanuprasadh/Python/blob/main/OOPS_Part_1.ipynb\" target=\"_parent\"><img src=\"https://colab.research.google.com/assets/colab-badge.svg\" alt=\"Open In Colab\"/></a>"
      ]
    },
    {
      "cell_type": "markdown",
      "source": [
        "## Q1. Explain Class and Object with respect to Object-Oriented Programming. Give a suitable example."
      ],
      "metadata": {
        "id": "VsXGTpoKOvqt"
      }
    },
    {
      "cell_type": "markdown",
      "source": [
        "\n",
        "In Object-Oriented Programming (OOP), a class is a blueprint or a template that defines the common properties and behaviors of a set of objects. An object is an instance of a class that represents a specific realization of the class with its own set of properties and behaviors.\n",
        "\n",
        "For example, consider the class \"Car\" which represents a general template for all types of cars. It may have properties like \"make,\" \"model,\" \"year,\" and \"color,\" and methods like \"start,\" \"accelerate,\" and \"brake.\"\n",
        "\n",
        "An object of the \"Car\" class would be a specific instance of a car, such as a red 2022 Tesla Model S. This object would have its own set of properties and behaviors, and could be identified as a separate entity from other objects of the same class.\n",
        "\n",
        "In OOP, classes serve as a blueprint for objects, defining the common properties and behaviors that all objects of that class share. Objects, on the other hand, are individual instances of a class that have their own unique set of properties and behaviors."
      ],
      "metadata": {
        "id": "Cku8jaCSO13T"
      }
    },
    {
      "cell_type": "code",
      "execution_count": 1,
      "metadata": {
        "colab": {
          "base_uri": "https://localhost:8080/"
        },
        "id": "70rKV8r7OlYp",
        "outputId": "298906d5-65e8-4b33-c582-41368a40fbf5"
      },
      "outputs": [
        {
          "output_type": "stream",
          "name": "stdout",
          "text": [
            "Tesla\n",
            "Model S\n",
            "2022\n",
            "Red\n",
            "The car has started.\n",
            "The car is now going 50 mph.\n",
            "The car has stopped.\n"
          ]
        }
      ],
      "source": [
        "class Car:\n",
        "    def __init__(self, make, model, year, color):\n",
        "        self.make = make\n",
        "        self.model = model\n",
        "        self.year = year\n",
        "        self.color = color\n",
        "        self.speed = 0\n",
        "        \n",
        "    def start(self):\n",
        "        print(\"The car has started.\")\n",
        "        \n",
        "    def accelerate(self, increment):\n",
        "        self.speed += increment\n",
        "        print(f\"The car is now going {self.speed} mph.\")\n",
        "        \n",
        "    def brake(self):\n",
        "        self.speed = 0\n",
        "        print(\"The car has stopped.\")\n",
        "        \n",
        "        \n",
        "# create an object of Car class\n",
        "car1 = Car(\"Tesla\", \"Model S\", 2022, \"Red\")\n",
        "\n",
        "# access the properties of the object\n",
        "print(car1.make)  # output: Tesla\n",
        "print(car1.model)  # output: Model S\n",
        "print(car1.year)  # output: 2022\n",
        "print(car1.color)  # output: Red\n",
        "\n",
        "# call methods of the object\n",
        "car1.start()  # output: The car has started.\n",
        "car1.accelerate(50)  # output: The car is now going 50 mph.\n",
        "car1.brake()  # output: The car has stopped.\n"
      ]
    },
    {
      "cell_type": "markdown",
      "source": [
        "## Q2. Name the four pillars of OOPs."
      ],
      "metadata": {
        "id": "Q1AaSYEYSWL5"
      }
    },
    {
      "cell_type": "markdown",
      "source": [
        "\n",
        "The four pillars of Object-Oriented Programming (OOPs) are:\n",
        "\n",
        "1.Encapsulation: It is a mechanism of hiding the data from outside the world and accessing it only through publicly exposed methods. Encapsulation provides data security by preventing unauthorized access and modification of data.\n",
        "\n",
        "2.Inheritance: It is the process of creating a new class from an existing class. The new class inherits the properties and behavior of the existing class and can add new features or modify the inherited ones. Inheritance facilitates code reusability, reduces code redundancy, and makes the code easy to maintain.\n",
        "\n",
        "3.Polymorphism: It is the ability of an object to take on many forms. Polymorphism allows objects to behave differently based on the context or the type of data they are interacting with. Polymorphism enables code flexibility, extensibility, and adaptability.\n",
        "\n",
        "4.Abstraction: It is the process of hiding the complexity and providing only the essential features to the user. Abstraction helps to reduce code complexity, improve code readability, and simplify code maintenance. Abstraction is achieved using abstract classes and interfaces."
      ],
      "metadata": {
        "id": "cVqnkUeFSmX1"
      }
    },
    {
      "cell_type": "markdown",
      "source": [
        "## Q3. Explain why the __init__() function is used. Give a suitable example."
      ],
      "metadata": {
        "id": "rY9QaJg2SuQm"
      }
    },
    {
      "cell_type": "markdown",
      "source": [
        "The __init__() function is a special method in Python that is automatically called when an object of a class is created. The purpose of the __init__() method is to initialize the object's attributes or properties when the object is created.\n",
        "\n",
        "For example, consider a class named Person that represents a person's basic information such as name, age, and gender. Here's an example code that defines the Person class with the __init__() method:"
      ],
      "metadata": {
        "id": "DgmF-KFVTRmo"
      }
    },
    {
      "cell_type": "code",
      "source": [
        "class Person:\n",
        "    def __init__(self, name, age, gender):\n",
        "        self.name = name\n",
        "        self.age = age\n",
        "        self.gender = gender\n",
        "        \n",
        "    def introduce(self):\n",
        "        print(f\"My name is {self.name}, and I am a {self.age}-year-old {self.gender}.\")"
      ],
      "metadata": {
        "id": "EdnYfkl8PeQD"
      },
      "execution_count": 2,
      "outputs": []
    },
    {
      "cell_type": "markdown",
      "source": [
        "## Q4. Why self is used in OOPs?"
      ],
      "metadata": {
        "id": "_yAHSFstT8O-"
      }
    },
    {
      "cell_type": "markdown",
      "source": [
        "In object-oriented programming (OOP), the concept of \"self\" refers to a specific instance of a class. In other words, it's a way of referring to the object that a particular method is being called on.\n",
        "\n",
        "Self is used in OOP for several reasons:\n",
        "\n",
        "Accessing Instance Variables: Using the self keyword, you can access the instance variables of the current object. This allows you to retrieve or modify data that is specific to that instance of the class.\n",
        "\n",
        "Calling Instance Methods: When you call an instance method, you need to specify which instance of the class you want to call it on. You can do this using the self keyword, which tells the interpreter to call the method on the current object.\n",
        "\n",
        "Creating New Instances: In many cases, you will want to create new instances of a class. To do this, you can call the class constructor and pass in any necessary arguments. Within the constructor, you can use the self keyword to refer to the new instance that is being created.\n",
        "\n",
        "Overall, the use of the self keyword is essential in OOP because it allows you to work with specific instances of a class, rather than just the class as a whole. By using self, you can access and manipulate data that is unique to each object, and you can ensure that method calls are performed on the correct instance.\n",
        "\n",
        "\n",
        "\n",
        "\n"
      ],
      "metadata": {
        "id": "-QIqa8pfUCdS"
      }
    },
    {
      "cell_type": "markdown",
      "source": [
        "## Q5. What is inheritance? Give an example for each type of inheritance."
      ],
      "metadata": {
        "id": "glH1yxSpUl4d"
      }
    },
    {
      "cell_type": "markdown",
      "source": [
        "\n",
        "Inheritance is a fundamental concept in object-oriented programming (OOP), which allows a new class to be based on an existing class, inheriting all the properties and behaviors of the parent class, and adding new features or modifications to it.\n",
        "\n",
        "There are four types of inheritance in OOP:\n",
        "\n",
        "Single inheritance: It involves creating a subclass that inherits the properties and behaviors of a single parent class.\n",
        "Example: Suppose you have a class called \"Vehicle\" that contains properties and methods common to all vehicles, such as \"speed\" and \"move\". You can then create a new class called \"Car\" that inherits from the \"Vehicle\" class, and adds its own unique properties and methods, such as \"number of doors\" and \"accelerate\".\n",
        "\n",
        "Multiple inheritance: It involves creating a subclass that inherits properties and behaviors from multiple parent classes.\n",
        "Example: Suppose you have a class called \"Bird\" that contains properties and methods specific to birds, such as \"wingspan\" and \"fly\". You can then create a new class called \"Penguin\" that inherits from both the \"Bird\" class and the \"Swim\" class, which contains properties and methods specific to swimming, such as \"swim speed\" and \"dive depth\".\n",
        "\n",
        "Multilevel inheritance: It involves creating a subclass that inherits from a subclass, creating a hierarchy of classes.\n",
        "Example: Suppose you have a class called \"Animal\" that contains properties and methods common to all animals, such as \"age\" and \"eat\". You can then create a new class called \"Mammal\" that inherits from the \"Animal\" class, and adds its own unique properties and methods, such as \"fur\" and \"nurse\". Finally, you can create a new class called \"Cat\" that inherits from the \"Mammal\" class, and adds its own unique properties and methods, such as \"meow\" and \"claw\".\n",
        "\n",
        "Hierarchical inheritance: It involves creating multiple subclasses that inherit from the same parent class.\n",
        "Example: Suppose you have a class called \"Shape\" that contains properties and methods common to all shapes, such as \"area\" and \"perimeter\". You can then create multiple classes, such as \"Rectangle\" and \"Triangle\", that inherit from the \"Shape\" class and add their own unique properties and methods.\n",
        "\n",
        "In summary, inheritance is a powerful tool in OOP that allows you to reuse code and create a hierarchy of classes that share common properties and behaviors"
      ],
      "metadata": {
        "id": "rjy16_2cU_sh"
      }
    },
    {
      "cell_type": "markdown",
      "source": [
        "Single Inheritance Example:"
      ],
      "metadata": {
        "id": "BZb8pCEpVg2g"
      }
    },
    {
      "cell_type": "code",
      "source": [
        "class Animal:\n",
        "    def __init__(self, name, age):\n",
        "        self.name = name\n",
        "        self.age = age\n",
        "    \n",
        "    def speak(self):\n",
        "        print(\"I am an animal\")\n",
        "\n",
        "class Dog(Animal):\n",
        "    def __init__(self, name, age, breed):\n",
        "        super().__init__(name, age)\n",
        "        self.breed = breed\n",
        "    \n",
        "    def speak(self):\n",
        "        print(\"Woof! I am a dog\")\n",
        "\n",
        "# Creating an instance of Dog class\n",
        "my_dog = Dog(\"Buddy\", 2, \"Labrador\")\n",
        "my_dog.speak() # Output: \"Woof! I am a dog\""
      ],
      "metadata": {
        "colab": {
          "base_uri": "https://localhost:8080/"
        },
        "id": "d4YrKWs7VglT",
        "outputId": "aa4472e5-59fa-49c2-d09a-0cbcc4a45164"
      },
      "execution_count": 5,
      "outputs": [
        {
          "output_type": "stream",
          "name": "stdout",
          "text": [
            "Woof! I am a dog\n"
          ]
        }
      ]
    },
    {
      "cell_type": "markdown",
      "source": [
        "Multiple Inheritance Example:"
      ],
      "metadata": {
        "id": "0qkp0feDVkbJ"
      }
    },
    {
      "cell_type": "code",
      "source": [
        "class Fly:\n",
        "    def fly(self):\n",
        "        print(\"I can fly\")\n",
        "\n",
        "class Swim:\n",
        "    def swim(self):\n",
        "        print(\"I can swim\")\n",
        "\n",
        "class Penguin(Fly, Swim):\n",
        "    def __init__(self, name):\n",
        "        self.name = name\n",
        "\n",
        "# Creating an instance of Penguin class\n",
        "my_penguin = Penguin(\"Chilly\")\n",
        "my_penguin.fly() # Output: \"I can fly\"\n",
        "my_penguin.swim() # Output: \"I can swim\""
      ],
      "metadata": {
        "colab": {
          "base_uri": "https://localhost:8080/"
        },
        "id": "M9AKb8wDVXw_",
        "outputId": "521ca752-5f42-4ef2-9c19-63f06df46b89"
      },
      "execution_count": 6,
      "outputs": [
        {
          "output_type": "stream",
          "name": "stdout",
          "text": [
            "I can fly\n",
            "I can swim\n"
          ]
        }
      ]
    },
    {
      "cell_type": "markdown",
      "source": [
        "Multilevel Inheritance Example:"
      ],
      "metadata": {
        "id": "IUNpwkjvVp9D"
      }
    },
    {
      "cell_type": "code",
      "source": [
        "class Animal:\n",
        "    def __init__(self, age):\n",
        "        self.age = age\n",
        "    \n",
        "    def eat(self):\n",
        "        print(\"I am eating\")\n",
        "\n",
        "class Mammal(Animal):\n",
        "    def __init__(self, age, fur_color):\n",
        "        super().__init__(age)\n",
        "        self.fur_color = fur_color\n",
        "    \n",
        "    def nurse(self):\n",
        "        print(\"I am nursing my young\")\n",
        "\n",
        "class Cat(Mammal):\n",
        "    def __init__(self, age, fur_color, breed):\n",
        "        super().__init__(age, fur_color)\n",
        "        self.breed = breed\n",
        "    \n",
        "    def meow(self):\n",
        "        print(\"Meow! I am a cat\")\n",
        "\n",
        "# Creating an instance of Cat class\n",
        "my_cat = Cat(1, \"gray\", \"Persian\")\n",
        "my_cat.eat() # Output: \"I am eating\"\n",
        "my_cat.nurse() # Output: \"I am nursing my young\"\n",
        "my_cat.meow() # Output: \"Meow! I am a cat\""
      ],
      "metadata": {
        "colab": {
          "base_uri": "https://localhost:8080/"
        },
        "id": "8lX9uAanVtNp",
        "outputId": "291d9b11-f2d2-4a8d-8653-11fd39c1fc55"
      },
      "execution_count": 7,
      "outputs": [
        {
          "output_type": "stream",
          "name": "stdout",
          "text": [
            "I am eating\n",
            "I am nursing my young\n",
            "Meow! I am a cat\n"
          ]
        }
      ]
    },
    {
      "cell_type": "markdown",
      "source": [
        "Hierarchical Inheritance Example"
      ],
      "metadata": {
        "id": "iKCl1-byVydl"
      }
    },
    {
      "cell_type": "code",
      "source": [
        "class Shape:\n",
        "    def __init__(self, color):\n",
        "        self.color = color\n",
        "    \n",
        "    def area(self):\n",
        "        pass\n",
        "    \n",
        "    def perimeter(self):\n",
        "        pass\n",
        "\n",
        "class Rectangle(Shape):\n",
        "    def __init__(self, color, length, width):\n",
        "        super().__init__(color)\n",
        "        self.length = length\n",
        "        self.width = width\n",
        "    \n",
        "    def area(self):\n",
        "        return self.length * self.width\n",
        "    \n",
        "    def perimeter(self):\n",
        "        return 2 * (self.length + self.width)\n",
        "\n",
        "class Triangle(Shape):\n",
        "    def __init__(self, color, base, height):\n",
        "        super().__init__(color)\n",
        "        self.base = base\n",
        "        self.height = height\n",
        "    \n",
        "    def area(self):\n",
        "        return 0.5 * self.base * self.height\n",
        "    \n",
        "    def perimeter(self):\n",
        "        return self.base + 2 * ((self.height ** 2 + self.base ** 2) ** 0.5)\n",
        "\n",
        "# Creating an instance of Rectangle class\n",
        "my_rectangle = Rectangle(\"red\", 5, 10)\n",
        "print(my_rectangle.area()) # Output: 50\n",
        "print(my_rectangle.perimeter()) # Output: 30\n",
        "\n",
        "# Creating an instance of Triangle class\n",
        "my_triangle = Triangle(\"blue\", 6, 8)\n",
        "print(my_triangle.area()) # Output: 24.0\n",
        "print(my_triangle.perimeter()) # Output: 21.211102550927"
      ],
      "metadata": {
        "colab": {
          "base_uri": "https://localhost:8080/"
        },
        "id": "_8MDZy3hVziW",
        "outputId": "920aefea-693f-4401-88db-81403554b636"
      },
      "execution_count": 8,
      "outputs": [
        {
          "output_type": "stream",
          "name": "stdout",
          "text": [
            "50\n",
            "30\n",
            "24.0\n",
            "26.0\n"
          ]
        }
      ]
    },
    {
      "cell_type": "code",
      "source": [],
      "metadata": {
        "id": "miEZOjoxWCov"
      },
      "execution_count": null,
      "outputs": []
    }
  ]
}