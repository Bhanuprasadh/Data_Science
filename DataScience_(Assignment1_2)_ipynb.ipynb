{
  "nbformat": 4,
  "nbformat_minor": 0,
  "metadata": {
    "colab": {
      "provenance": [],
      "authorship_tag": "ABX9TyOFxKGpF8WczYcbx3jXpffZ",
      "include_colab_link": true
    },
    "kernelspec": {
      "name": "python3",
      "display_name": "Python 3"
    },
    "language_info": {
      "name": "python"
    }
  },
  "cells": [
    {
      "cell_type": "markdown",
      "metadata": {
        "id": "view-in-github",
        "colab_type": "text"
      },
      "source": [
        "<a href=\"https://colab.research.google.com/github/Bhanuprasadh/Data_Science/blob/main/DataScience_(Assignment1_2)_ipynb.ipynb\" target=\"_parent\"><img src=\"https://colab.research.google.com/assets/colab-badge.svg\" alt=\"Open In Colab\"/></a>"
      ]
    },
    {
      "cell_type": "markdown",
      "source": [
        "## Q1. Which keyword is used to create a function? Create a function to return a list of odd numbers in the range of 1 to 25."
      ],
      "metadata": {
        "id": "7BoWfbLPddIA"
      }
    },
    {
      "cell_type": "markdown",
      "source": [
        "The keyword used to create a function in most programming languages is \"def\", short for define. Here's an example of how you can use \"def\" to create a function that returns a list of odd numbers between 1 and 25:"
      ],
      "metadata": {
        "id": "vByHddCMdpw1"
      }
    },
    {
      "cell_type": "code",
      "execution_count": 1,
      "metadata": {
        "id": "w7bN32uIdZZO"
      },
      "outputs": [],
      "source": [
        "def odd_numbers():\n",
        "    odd_nums = []\n",
        "    for i in range(1, 26, 2):\n",
        "        odd_nums.append(i)\n",
        "    return odd_nums\n"
      ]
    },
    {
      "cell_type": "markdown",
      "source": [
        "This function creates an empty list called odd_nums, loops through the range of numbers from 1 to 25 with a step of 2, and appends each odd number to the list. Finally, it returns the completed list. You can call this function by typing odd_numbers() in your code, which will return [1, 3, 5, 7, 9, 11, 13, 15, 17, 19, 21, 23, 25]."
      ],
      "metadata": {
        "id": "64C1hXg7d0DJ"
      }
    },
    {
      "cell_type": "markdown",
      "source": [
        "## Q2. Why *args and **kwargs is used in some functions? Create a function each for *args and **kwargs to demonstrate their use."
      ],
      "metadata": {
        "id": "e-82dvIcd403"
      }
    },
    {
      "cell_type": "markdown",
      "source": [
        "\n",
        "*args and **kwargs are used in functions to pass a variable number of arguments to the function.\n",
        "\n",
        "args is used to pass a variable number of non-keyworded arguments to a function. It allows us to pass any number of arguments to the function. It is represented by an asterisk () followed by the variable name. Inside the function, the arguments are accessed as a tuple.\n",
        "\n",
        "Here's an example function that takes in any number of arguments using *args and returns their sum:"
      ],
      "metadata": {
        "id": "fASq7tzheBWc"
      }
    },
    {
      "cell_type": "code",
      "source": [
        "def sum_all(*args):\n",
        "    return sum(args)"
      ],
      "metadata": {
        "id": "fzDJP-Wbdsds"
      },
      "execution_count": 2,
      "outputs": []
    },
    {
      "cell_type": "code",
      "source": [
        "sum_all(1, 2, 3)    # returns 6\n",
        "sum_all(4, 5, 6, 7) # returns 22"
      ],
      "metadata": {
        "colab": {
          "base_uri": "https://localhost:8080/"
        },
        "id": "-OhC-N1GeTDN",
        "outputId": "4bf8b7f1-27cb-4622-90d3-557eff83f4b1"
      },
      "execution_count": 4,
      "outputs": [
        {
          "output_type": "execute_result",
          "data": {
            "text/plain": [
              "22"
            ]
          },
          "metadata": {},
          "execution_count": 4
        }
      ]
    },
    {
      "cell_type": "markdown",
      "source": [
        "kwargs, on the other hand, is used to pass a variable number of keyword arguments to a function. It allows us to pass any number of keyword arguments to the function. It is represented by two asterisks () followed by the variable name. Inside the function, the arguments are accessed as a dictionary.\n",
        "\n",
        "Here's an example function that takes in any number of keyword arguments using **kwargs and prints them out:"
      ],
      "metadata": {
        "id": "aG9ttk7qeggq"
      }
    },
    {
      "cell_type": "code",
      "source": [
        "def print_kwargs(**kwargs):\n",
        "    for key, value in kwargs.items():\n",
        "        print(f\"{key} = {value}\")"
      ],
      "metadata": {
        "id": "gt03f90HeVQV"
      },
      "execution_count": 5,
      "outputs": []
    },
    {
      "cell_type": "code",
      "source": [
        "print_kwargs(a=1, b=2, c=3)\n",
        "# prints:\n",
        "# a = 1\n",
        "# b = 2\n",
        "# c = 3\n",
        "\n",
        "print_kwargs(name=\"Alice\", age=30, city=\"New York\")\n",
        "# prints:\n",
        "# name = Alice\n",
        "# age = 30\n",
        "# city = New York"
      ],
      "metadata": {
        "colab": {
          "base_uri": "https://localhost:8080/"
        },
        "id": "cY63ZPgZejxg",
        "outputId": "7656fb3d-7fb1-477a-c8cc-710474c396ed"
      },
      "execution_count": 6,
      "outputs": [
        {
          "output_type": "stream",
          "name": "stdout",
          "text": [
            "a = 1\n",
            "b = 2\n",
            "c = 3\n",
            "name = Alice\n",
            "age = 30\n",
            "city = New York\n"
          ]
        }
      ]
    },
    {
      "cell_type": "markdown",
      "source": [
        "args and **kwargs are useful when we need to pass a variable number of arguments to a function. They allow us to write more flexible and reusable code."
      ],
      "metadata": {
        "id": "ORtZU60pevJX"
      }
    },
    {
      "cell_type": "markdown",
      "source": [
        "## Q3. What is an iterator in python? Name the method used to initialise the iterator object and the method used for iteration. Use these methods to print the first five elements of the given list [2, 4, 6, 8, 10, 12, 14, 16, 18, 20]."
      ],
      "metadata": {
        "id": "LheEMuh0exvg"
      }
    },
    {
      "cell_type": "markdown",
      "source": [
        "In Python, an iterator is an object that represents a stream of data. It allows us to loop over a sequence of values, one at a time, without having to load the entire sequence into memory at once. An iterator object must implement two methods: __iter__() and __next__(). The __iter__() method returns the iterator object itself, and the __next__() method returns the next value in the sequence.\n",
        "\n",
        "To initialize an iterator object, we can use the iter() function. This function takes an iterable object (such as a list, tuple, or string) and returns an iterator object.\n",
        "\n",
        "To iterate over the values in an iterator object, we can use a for loop or the next() function. The for loop automatically calls the __next__() method on the iterator object until it raises the StopIteration exception. The next() function can also be used to manually call the __next__() method.\n",
        "\n",
        "Here's an example of using an iterator to print the first five elements of the list [2, 4, 6, 8, 10, 12, 14, 16, 18, 20]:"
      ],
      "metadata": {
        "id": "59BSfj-te7Oa"
      }
    },
    {
      "cell_type": "code",
      "source": [
        "my_list = [2, 4, 6, 8, 10, 12, 14, 16, 18, 20]\n",
        "\n",
        "# Initialize an iterator object\n",
        "my_iter = iter(my_list)\n",
        "\n",
        "# Use a for loop to iterate over the values\n",
        "for i in range(5):\n",
        "    print(next(my_iter))"
      ],
      "metadata": {
        "colab": {
          "base_uri": "https://localhost:8080/"
        },
        "id": "wFmlMb_Hemqe",
        "outputId": "4da6b70c-d11c-447d-a3b5-f5f6af406240"
      },
      "execution_count": 7,
      "outputs": [
        {
          "output_type": "stream",
          "name": "stdout",
          "text": [
            "2\n",
            "4\n",
            "6\n",
            "8\n",
            "10\n"
          ]
        }
      ]
    },
    {
      "cell_type": "markdown",
      "source": [
        "In this example, we first initialize an iterator object my_iter using the iter() function. Then, we use a for loop to iterate over the first five values in the iterator object, printing each value using the next() function. The output shows the first five elements of the list [2, 4, 6, 8, 10, 12, 14, 16, 18, 20]."
      ],
      "metadata": {
        "id": "t6EW_h6XfPiX"
      }
    },
    {
      "cell_type": "markdown",
      "source": [
        "## Q4.What is a generator function in python? Why yield keyword is used? Give an example of a generator function."
      ],
      "metadata": {
        "id": "HmWnij1ffQtf"
      }
    },
    {
      "cell_type": "markdown",
      "source": [
        "\n",
        "In Python, a generator function is a special type of function that allows us to generate a sequence of values on-the-fly. Instead of returning a single value, a generator function can yield multiple values, one at a time, as it is called. The yield keyword is used to return a value from the generator function without exiting the function. The generator function remembers its state and can be resumed from where it left off each time it is called.\n",
        "\n",
        "The main advantage of using generator functions is that they are memory-efficient. They allow us to generate values on-the-fly, without having to store them all in memory at once. This is especially useful when we need to generate a large number of values, or when we need to generate values in a sequence that is too large to fit into memory.\n",
        "\n",
        "Here's an example of a generator function that generates a sequence of Fibonacci numbers:"
      ],
      "metadata": {
        "id": "gS4ZkM5afV26"
      }
    },
    {
      "cell_type": "code",
      "source": [
        "def fibonacci():\n",
        "    a, b = 0, 1\n",
        "    while True:\n",
        "        yield a\n",
        "        a, b = b, a + b"
      ],
      "metadata": {
        "id": "BhU1zZMLfHnq"
      },
      "execution_count": 8,
      "outputs": []
    },
    {
      "cell_type": "markdown",
      "source": [
        "In this example, the fibonacci() function uses a while loop to generate an infinite sequence of Fibonacci numbers. Instead of returning each value using the return keyword, it uses the yield keyword to return each value one at a time, as it is called. Each time the function is called, it resumes where it left off, generating the next value in the sequence.\n",
        "\n",
        "We can use this generator function in a for loop, like this:"
      ],
      "metadata": {
        "id": "D04wlZYyf7pm"
      }
    },
    {
      "cell_type": "code",
      "source": [
        "for i in fibonacci():\n",
        "    if i > 1000:\n",
        "        break\n",
        "    print(i)"
      ],
      "metadata": {
        "colab": {
          "base_uri": "https://localhost:8080/"
        },
        "id": "hPKFH0L5f8q-",
        "outputId": "cf4d7b01-587a-4e70-b8c2-aae48943960a"
      },
      "execution_count": 9,
      "outputs": [
        {
          "output_type": "stream",
          "name": "stdout",
          "text": [
            "0\n",
            "1\n",
            "1\n",
            "2\n",
            "3\n",
            "5\n",
            "8\n",
            "13\n",
            "21\n",
            "34\n",
            "55\n",
            "89\n",
            "144\n",
            "233\n",
            "377\n",
            "610\n",
            "987\n"
          ]
        }
      ]
    },
    {
      "cell_type": "markdown",
      "source": [
        "In this example, we use a for loop to iterate over the values generated by the fibonacci() generator function. We print each value until we reach a value that is greater than 1000, at which point we break out of the loop."
      ],
      "metadata": {
        "id": "89a_I9bhgGN4"
      }
    },
    {
      "cell_type": "markdown",
      "source": [
        "## Q5. Create a generator function for prime numbers less than 1000. Use the next() method to print the first 20 prime numbers."
      ],
      "metadata": {
        "id": "W7Ak3MLZgNQ6"
      }
    },
    {
      "cell_type": "markdown",
      "source": [
        "here's an example of a generator function that generates prime numbers less than 1000 using the Sieve of Eratosthenes algorithm:"
      ],
      "metadata": {
        "id": "mkLzM813gSJJ"
      }
    },
    {
      "cell_type": "code",
      "source": [
        "def primes():\n",
        "    # Create a list of all numbers from 2 to 999\n",
        "    numbers = list(range(2, 1000))\n",
        "\n",
        "    # Loop over the numbers list and remove all multiples of each number\n",
        "    for i in numbers:\n",
        "        if i:\n",
        "            for j in range(i * i, 1000, i):\n",
        "                numbers[j - 2] = None\n",
        "\n",
        "    # Yield all non-None numbers from the list\n",
        "    for i in numbers:\n",
        "        if i:\n",
        "            yield i"
      ],
      "metadata": {
        "id": "XJ3FcmMUgg5a"
      },
      "execution_count": 10,
      "outputs": []
    },
    {
      "cell_type": "markdown",
      "source": [
        "In this example, we first create a list of all numbers from 2 to 999. We then loop over the list using the Sieve of Eratosthenes algorithm to remove all multiples of each number, leaving only the prime numbers in the list. Finally, we use a generator function to yield each prime number from the list.\n",
        "\n",
        "We can use the next() method to print the first 20 prime numbers generated by this function, like this:"
      ],
      "metadata": {
        "id": "z2ch-Q4-gmSt"
      }
    },
    {
      "cell_type": "code",
      "source": [
        "# Create a generator object for the prime numbers\n",
        "prime_generator = primes()\n",
        "\n",
        "# Print the first 20 prime numbers\n",
        "for i in range(20):\n",
        "    print(next(prime_generator))"
      ],
      "metadata": {
        "colab": {
          "base_uri": "https://localhost:8080/"
        },
        "id": "k1JZQ1RWgjf-",
        "outputId": "b388fa63-865c-46fc-b175-36001e26d8f0"
      },
      "execution_count": 11,
      "outputs": [
        {
          "output_type": "stream",
          "name": "stdout",
          "text": [
            "2\n",
            "3\n",
            "5\n",
            "7\n",
            "11\n",
            "13\n",
            "17\n",
            "19\n",
            "23\n",
            "29\n",
            "31\n",
            "37\n",
            "41\n",
            "43\n",
            "47\n",
            "53\n",
            "59\n",
            "61\n",
            "67\n",
            "71\n"
          ]
        }
      ]
    },
    {
      "cell_type": "markdown",
      "source": [
        "In this example, we first create a generator object prime_generator using the primes() function. We then use a for loop to call the next() method on the generator object 20 times, printing each prime number generated by the function."
      ],
      "metadata": {
        "id": "trVxmyaFgsFA"
      }
    }
  ]
}