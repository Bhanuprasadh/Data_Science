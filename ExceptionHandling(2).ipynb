{
  "nbformat": 4,
  "nbformat_minor": 0,
  "metadata": {
    "colab": {
      "provenance": [],
      "authorship_tag": "ABX9TyNjONe8Tso54FTS6BzymG6C",
      "include_colab_link": true
    },
    "kernelspec": {
      "name": "python3",
      "display_name": "Python 3"
    },
    "language_info": {
      "name": "python"
    }
  },
  "cells": [
    {
      "cell_type": "markdown",
      "metadata": {
        "id": "view-in-github",
        "colab_type": "text"
      },
      "source": [
        "<a href=\"https://colab.research.google.com/github/Bhanuprasadh/PythonPW/blob/main/ExceptionHandling(2).ipynb\" target=\"_parent\"><img src=\"https://colab.research.google.com/assets/colab-badge.svg\" alt=\"Open In Colab\"/></a>"
      ]
    },
    {
      "cell_type": "markdown",
      "source": [
        "# 1.What is an Exception in python? Write the difference between Exceptions and syntax errors"
      ],
      "metadata": {
        "id": "lHJTc2detx2D"
      }
    },
    {
      "cell_type": "markdown",
      "source": [
        "Here is a brief explanation of exceptions and syntax errors in Python:\n",
        "\n",
        "An exception in Python is an error that occurs during the execution of a program. When an exception occurs, the normal flow of the program is disrupted and Python raises an exception that can be handled. Some common built-in exceptions in Python include ZeroDivisionError, ValueError, TypeError, etc.\n",
        "\n",
        "A syntax error, on the other hand, occurs when Python encounters incorrect syntax in the code. Syntax errors prevent Python from even executing the code. Some examples of syntax errors are missing colon, unmatched parentheses, missing quotes, etc.\n",
        "\n",
        "The main differences between exceptions and syntax errors are:\n",
        "\n",
        "- Exceptions occur during execution, syntax errors occur during parsing/compilation.\n",
        "\n",
        "- Exceptions can be handled by the program, syntax errors cannot be handled and stop the execution.\n",
        "\n",
        "- Exceptions provide information about what went wrong and where using traceback, syntax errors only indicate something is wrong with the syntax.\n",
        "\n",
        "- Examples of exceptions are ZeroDivisionError, ImportError etc. Examples of syntax errors are missing commas, unmatched brackets etc.\n",
        "\n",
        "- Exceptions do not stop the program execution immediately, the program can continue after handling the exception. Syntax errors stop the execution immediately.\n",
        "\n",
        "So in summary, syntax errors are coding mistakes that violate Python syntax rules and exceptions are runtime errors that occur during execution and can be handled within the program. Exceptions provide a way to handle errors gracefully while syntax errors crash the program."
      ],
      "metadata": {
        "id": "KYag0Q4vuRVM"
      }
    },
    {
      "cell_type": "markdown",
      "source": [
        "# 2.What happens when an exception is not handled? Explain with an example"
      ],
      "metadata": {
        "id": "Lx6pkJrPudlr"
      }
    },
    {
      "cell_type": "markdown",
      "source": [
        "When an exception is not handled in a Python program, it results in the program crashing and abruptly stopping execution. Let's look at an example:"
      ],
      "metadata": {
        "id": "8n9Ch3bXu93V"
      }
    },
    {
      "cell_type": "code",
      "execution_count": null,
      "metadata": {
        "id": "mJ8eDEvStmDR"
      },
      "outputs": [],
      "source": [
        "def divide(a, b):\n",
        "    return a/b\n",
        "\n",
        "print(divide(10, 0))"
      ]
    },
    {
      "cell_type": "markdown",
      "source": [
        "Here we define a divide function that simply divides two numbers. In the last line, we call it with 10 and 0. This will raise a ZeroDivisionError since we are trying to divide by 0.\n",
        "\n",
        "But since we have not handled this exception in our code, Python will give an error message and stop executing the program:"
      ],
      "metadata": {
        "id": "Fas9vb1UvBQg"
      }
    },
    {
      "cell_type": "code",
      "source": [
        "Traceback (most recent call last):\n",
        "  File \"example.py\", line 5, in <module>\n",
        "    print(divide(10, 0))\n",
        "  File \"example.py\", line 2, in divide\n",
        "    return a/b\n",
        "ZeroDivisionError: division by zero"
      ],
      "metadata": {
        "id": "BjgbIRbLvE48"
      },
      "execution_count": null,
      "outputs": []
    },
    {
      "cell_type": "markdown",
      "source": [
        "The traceback shows the exact line numbers and sequence of function calls that led to the unhandled exception.\n",
        "\n",
        "To handle this properly, we can catch the exception in a try-except block:"
      ],
      "metadata": {
        "id": "YAJXAx7NvgVk"
      }
    },
    {
      "cell_type": "code",
      "source": [
        "try:\n",
        "  print(divide(10, 0))\n",
        "except ZeroDivisionError:\n",
        "  print(\"Cannot divide by zero!\")"
      ],
      "metadata": {
        "id": "XyiJPeX6vj5t"
      },
      "execution_count": null,
      "outputs": []
    },
    {
      "cell_type": "markdown",
      "source": [
        "Now instead of crashing, our program will catch the exception and print a user-friendly error message.\n",
        "\n",
        "So in summary, unhandled exceptions will crash and stop execution of the program abruptly. To prevent this, exceptions should be caught and handled gracefully using try-except blocks."
      ],
      "metadata": {
        "id": "ngEvlqbYvnBL"
      }
    },
    {
      "cell_type": "markdown",
      "source": [
        "# 3. Which Python statements are used to catch and handle exceptions? Explain with an example"
      ],
      "metadata": {
        "id": "IaCp3pUJvqB4"
      }
    },
    {
      "cell_type": "markdown",
      "source": [
        "In Python, exceptions are caught and handled using the try and except statements.\n",
        "\n",
        "Here is a simple example:"
      ],
      "metadata": {
        "id": "ex1NvcNLwWxd"
      }
    },
    {
      "cell_type": "code",
      "source": [
        "try:\n",
        "  num = int(input(\"Enter a number: \"))\n",
        "  print(100/num)\n",
        "except ValueError:\n",
        "  print(\"You must enter an integer!\")\n",
        "except ZeroDivisionError:\n",
        "  print(\"Cannot divide by zero!\")"
      ],
      "metadata": {
        "id": "0IOzxpsKwLrs"
      },
      "execution_count": null,
      "outputs": []
    },
    {
      "cell_type": "markdown",
      "source": [
        "The code inside the try block is executed. If an exception occurs in the try block, the corresponding except block matching the exception is executed.\n",
        "\n",
        "In this example:\n",
        "\n",
        "If the user enters a non-integer value, a ValueError occurs and the first except block is executed.\n",
        "If the user enters 0, a ZeroDivisionError occurs and the second except block is executed.\n",
        "If no exception occurs, the try block runs normally.\n",
        "We can also just use a bare except to catch all exceptions:"
      ],
      "metadata": {
        "id": "5dHtLGGowaP2"
      }
    },
    {
      "cell_type": "code",
      "source": [
        "try:\n",
        "   # some code\n",
        "except:\n",
        "   # handles all exceptions"
      ],
      "metadata": {
        "id": "ACu5bxGiwoxz"
      },
      "execution_count": null,
      "outputs": []
    },
    {
      "cell_type": "markdown",
      "source": [
        "The try-except statement allows you to handle exceptions gracefully and recover from error conditions in your Python programs.\n",
        "\n",
        "Some key points about try-except:\n",
        "\n",
        "Multiple except blocks can follow a single try to handle different exceptions\n",
        "The except block following the try must match the type of exception raised\n",
        "We can specify an error message to output in the except block\n",
        "Using bare except is not recommended as it catches all exceptions\n",
        "So in summary, try and except are used together to catch and handle exceptions in Python."
      ],
      "metadata": {
        "id": "PwvE9w-7wr2J"
      }
    },
    {
      "cell_type": "markdown",
      "source": [
        "# 4.Explain with an example:\n",
        "\n",
        "1.try and else\n",
        "2.finally\n",
        "3.rise"
      ],
      "metadata": {
        "id": "FKMbZeQ0wvOK"
      }
    },
    {
      "cell_type": "markdown",
      "source": [
        "Here is an example demonstrating the try, else, finally and raise statements in Python for exception handling:\n",
        "\n"
      ],
      "metadata": {
        "id": "CRjInYpawv2x"
      }
    },
    {
      "cell_type": "code",
      "source": [
        "try:\n",
        "  num = int(input(\"Enter a number: \"))\n",
        "  result = 100/num\n",
        "except ValueError:\n",
        "  print(\"You must enter an integer!\")\n",
        "except ZeroDivisionError:\n",
        "  print(\"Cannot divide by zero!\")\n",
        "else:\n",
        "  print(f\"100 divided by {num} is {result}\")\n",
        "finally:\n",
        "  print(\"Executing the finally block\")\n",
        "\n",
        "print(\"Code after the try-except-else-finally\")\n",
        "\n",
        "# Raising an exception\n",
        "try:\n",
        "  raise ValueError(\"This is an error!\")\n",
        "except ValueError as ve:\n",
        "  print(ve)"
      ],
      "metadata": {
        "id": "Guu1MGm3wrg7"
      },
      "execution_count": null,
      "outputs": []
    },
    {
      "cell_type": "markdown",
      "source": [
        "Explanation:\n",
        "\n",
        "The else block is executed only if no exceptions are raised in the try block. Here it prints the division result.\n",
        "The finally block is always executed, whether an exception occurred or not. It is used to release resources. Here it prints a message.\n",
        "We can use raise to manually raise an exception. In the second try block, we raise a ValueError just to demonstrate raise.\n",
        "Key points:\n",
        "\n",
        "else executes only if no exception occurs in try block\n",
        "finally always runs after try/except regardless of exception\n",
        "raise manually raises an exception\n",
        "So in summary, try, else, finally and raise allow you to handle exceptions and control program flow when errors occur in Python."
      ],
      "metadata": {
        "id": "cGCmxbn-xaeS"
      }
    },
    {
      "cell_type": "markdown",
      "source": [
        "# 5.What are Custom Exceptions in python? Why do we need Custom Exceptions? Explain with an example"
      ],
      "metadata": {
        "id": "gMV7Qog2xe_m"
      }
    },
    {
      "cell_type": "markdown",
      "source": [
        "Custom exceptions in Python are user-defined exceptions that are created by subclassing the built-in Exception class.\n",
        "\n",
        "We need custom exceptions because they allow us to more precisely specify errors that are specific to our application. Built-in exceptions like ValueError, TypeError etc. are too generic.\n",
        "\n",
        "Here is an example of a custom exception:"
      ],
      "metadata": {
        "id": "aoqjL56ax-8V"
      }
    },
    {
      "cell_type": "code",
      "source": [
        "class InvalidAgeException(Exception):\n",
        "    pass\n",
        "\n",
        "def validate_age(age):\n",
        "    if age < 0:\n",
        "        raise InvalidAgeException(\"Age cannot be negative!\")\n",
        "    if age > 150:\n",
        "        raise InvalidAgeException(\"Age seems invalid!\")\n",
        "\n",
        "try:\n",
        "    validate_age(-10)\n",
        "except InvalidAgeException as e:\n",
        "    print(e)"
      ],
      "metadata": {
        "id": "IrbaTftsx91z"
      },
      "execution_count": null,
      "outputs": []
    },
    {
      "cell_type": "markdown",
      "source": [
        "In this example:\n",
        "\n",
        "We create a custom InvalidAgeException that inherits from Exception.\n",
        "In validate_age(), we check if age is valid and raise our custom exception if not.\n",
        "In the try block, we call validate_age() which raises the InvalidAgeException that we handle.\n",
        "Benefits:\n",
        "\n",
        "The exception name describes the specific problem - invalid age in this case.\n",
        "We can add custom data like error messages.\n",
        "Code is cleaner when using custom exceptions versus generic built-ins.\n",
        "So in summary, custom exceptions help describe application-specific error conditions precisely and improve code readability and maintainability."
      ],
      "metadata": {
        "id": "GPM6qqb0yI1I"
      }
    },
    {
      "cell_type": "markdown",
      "source": [
        "# 6.Create a custom exception class. Use this class to handlen an exception."
      ],
      "metadata": {
        "id": "xX_3tkvryMlt"
      }
    },
    {
      "cell_type": "markdown",
      "source": [
        "Here is an example of creating a custom exception class and using it to handle an exception:"
      ],
      "metadata": {
        "id": "v2PZr1GDx6RG"
      }
    },
    {
      "cell_type": "code",
      "source": [
        "# Custom exception class\n",
        "class InvalidUsernameException(Exception):\n",
        "    pass\n",
        "\n",
        "def validate_username(username):\n",
        "    if len(username) < 8:\n",
        "        raise InvalidUsernameException(\"Username must be at least 8 characters\")\n",
        "    else:\n",
        "        print(\"Valid username\")\n",
        "\n",
        "# Using the custom exception\n",
        "try:\n",
        "    username = input(\"Enter username: \")\n",
        "    validate_username(username)\n",
        "except InvalidUsernameException as e:\n",
        "    print(e)\n",
        "\n",
        "print(\"Program continues...\")"
      ],
      "metadata": {
        "id": "FjIen99RysZ4"
      },
      "execution_count": null,
      "outputs": []
    },
    {
      "cell_type": "markdown",
      "source": [
        "In this code:\n",
        "\n",
        "We define a custom InvalidUsernameException class that inherits from the built-in Exception.\n",
        "The validate_username() function checks if the username meets a certain criteria, and if not, it raises the custom exception.\n",
        "In the try block, we call the validate_username() function which may raise InvalidUsernameException.\n",
        "The except block catches the custom exception, prints the error message, and then continues program execution.\n",
        "So the custom exception allows us to gracefully handle the invalid username error.\n",
        "This is an example of how we can create and use custom exceptions in Python to handle specific error scenarios in our programs. The custom exception class name and messages make the code more readable."
      ],
      "metadata": {
        "id": "ldAouD61zL8N"
      }
    }
  ]
}