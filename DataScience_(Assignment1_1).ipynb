{
  "nbformat": 4,
  "nbformat_minor": 0,
  "metadata": {
    "colab": {
      "provenance": [],
      "authorship_tag": "ABX9TyO3GQt1PAIvg37jh5htuafv",
      "include_colab_link": true
    },
    "kernelspec": {
      "name": "python3",
      "display_name": "Python 3"
    },
    "language_info": {
      "name": "python"
    }
  },
  "cells": [
    {
      "cell_type": "markdown",
      "metadata": {
        "id": "view-in-github",
        "colab_type": "text"
      },
      "source": [
        "<a href=\"https://colab.research.google.com/github/Bhanuprasadh/Data_Science/blob/main/DataScience_(Assignment1_1).ipynb\" target=\"_parent\"><img src=\"https://colab.research.google.com/assets/colab-badge.svg\" alt=\"Open In Colab\"/></a>"
      ]
    },
    {
      "cell_type": "markdown",
      "source": [
        "## Q1.What are the characteristics of the tuples? Is tuple immutable?"
      ],
      "metadata": {
        "id": "ZbnrcvioOiYg"
      }
    },
    {
      "cell_type": "markdown",
      "source": [
        "1.Tuples are ordered: The elements in a tuple have a specific order, and this order is maintained when the tuple is created.\n",
        "2.Tuples are heterogeneous: The elements in a tuple can be of different data types, including numbers, strings, and other objects.\n",
        "3.Tuples are indexed: Like lists, tuples are indexed starting from 0, so you can access individual elements by their index.\n",
        "4.Tuples are immutable: Unlike lists, tuples are immutable, which means that once a tuple is created, you cannot modify its elements."
      ],
      "metadata": {
        "id": "tZU6NhY-OobW"
      }
    },
    {
      "cell_type": "markdown",
      "source": [
        "## Q2.What are the two tuple methods in python? Give an example of each method. Give a reason why tuples have only two in-built methods as compared to Lists."
      ],
      "metadata": {
        "id": "0tma6eo1O3sL"
      }
    },
    {
      "cell_type": "markdown",
      "source": [
        "The two tuple methods in Python are count() and index().\n",
        "\n",
        "1.The count() method returns the number of times a specified element appears in a tuple. It takes a single argument, which is the value to be counted.\n",
        "2.The index() method returns the index of the first occurrence of a specified element in a tuple. It takes a single argument, which is the value to be searched"
      ],
      "metadata": {
        "id": "6ZmC-c6pPCH5"
      }
    },
    {
      "cell_type": "markdown",
      "source": [
        "## Q3.Which collection datatypes in python do not allow duplicate items? Write a code using a set to remove duplicates from the given list."
      ],
      "metadata": {
        "id": "uoheL92SPi2E"
      }
    },
    {
      "cell_type": "markdown",
      "source": [
        "The collection datatype in Python that does not allow duplicate items is the set."
      ],
      "metadata": {
        "id": "zBuB0x4hPyi6"
      }
    },
    {
      "cell_type": "markdown",
      "source": [
        "## Q4.Explain the difference between the union() and update() methods for a set. Give an example of each method."
      ],
      "metadata": {
        "id": "igovffTCP4em"
      }
    },
    {
      "cell_type": "markdown",
      "source": [],
      "metadata": {
        "id": "o32BbkiNPZY_"
      }
    },
    {
      "cell_type": "markdown",
      "source": [
        "Both union() and update() are set methods in Python, but they have different behaviors:\n",
        "\n",
        "1.The union() method returns a new set that contains all the elements from two or more sets, without modifying the original sets. It takes one or more sets as arguments, and returns a new set that contains all the unique elements from all the sets\n",
        "\n",
        "2.The update() method modifies a set by adding all the elements from another set (or an iterable) to it. It takes one argument, which can be another set, a list, or any other iterable. It adds all the elements from the argument to the set, without creating a new set"
      ],
      "metadata": {
        "id": "kpnC5y9tQODG"
      }
    },
    {
      "cell_type": "markdown",
      "source": [
        "## Q5.What is a dictionary? Give an example. Also, state whether a dictionary is ordered or unordered."
      ],
      "metadata": {
        "id": "F28kL94TQfIn"
      }
    },
    {
      "cell_type": "markdown",
      "source": [
        "In Python, a dictionary is a collection of key-value pairs, where each key is associated with a value. It is an unordered collection of elements, meaning the order of the elements is not guaranteed.\n",
        "\n",
        "A dictionary is defined using curly braces {}, with each key-value pair separated by a colon \":\"."
      ],
      "metadata": {
        "id": "_ArYx8eHQo24"
      }
    },
    {
      "cell_type": "markdown",
      "source": [
        "## Q6.Can we create a nested dictionary? If so, please give an example by creating a simple one-level nested dictionary."
      ],
      "metadata": {
        "id": "Y_5yPeeTQ1d2"
      }
    },
    {
      "cell_type": "markdown",
      "source": [
        "Yes, we can create nested dictionaries in Python. A nested dictionary is a dictionary that contains one or more dictionaries as its values. Here's an example of a simple one-level nested dictionary:"
      ],
      "metadata": {
        "id": "ISDzJmzORIEM"
      }
    },
    {
      "cell_type": "code",
      "source": [
        "person = {\n",
        "    'name': 'John',\n",
        "    'age': 30,\n",
        "    'address': {\n",
        "        'street': '123 Main St',\n",
        "        'city': 'New York',\n",
        "        'state': 'NY',\n",
        "        'zip': '10001'\n",
        "    }\n",
        "}\n"
      ],
      "metadata": {
        "id": "sT4dcllnROvC"
      },
      "execution_count": 1,
      "outputs": []
    },
    {
      "cell_type": "markdown",
      "source": [
        "## Q7. Using setdefault() method, create key named topics in the given dictionary and also add the value of the key as this list ['Python', 'Machine Learning’, 'Deep Learning'] dict1 = {'language' : 'Python', 'course': 'Data Science Masters'}"
      ],
      "metadata": {
        "id": "vd5JxW28RhBX"
      }
    },
    {
      "cell_type": "markdown",
      "source": [
        "We can use the setdefault() method to add a new key-value pair to a dictionary only if the key does not already exist in the dictionary. If the key already exists, the setdefault() method returns the value associated with the key. Here's how we can use the setdefault() method to add the 'topics' key to the dict1 dictionary:"
      ],
      "metadata": {
        "id": "8dRpfHNGRn_M"
      }
    },
    {
      "cell_type": "code",
      "source": [
        "dict1 = {'language' : 'Python', 'course': 'Data Science Masters'}\n",
        "\n",
        "topics_list = ['Python', 'Machine Learning', 'Deep Learning']\n",
        "dict1.setdefault('topics', topics_list)\n",
        "\n",
        "print(dict1)\n"
      ],
      "metadata": {
        "colab": {
          "base_uri": "https://localhost:8080/"
        },
        "id": "MG72NFj2R3jd",
        "outputId": "b2ee3f1e-a338-44a5-99e0-0e5133408cea"
      },
      "execution_count": 2,
      "outputs": [
        {
          "output_type": "stream",
          "name": "stdout",
          "text": [
            "{'language': 'Python', 'course': 'Data Science Masters', 'topics': ['Python', 'Machine Learning', 'Deep Learning']}\n"
          ]
        }
      ]
    },
    {
      "cell_type": "markdown",
      "source": [
        "## Q8. What are the three view objects in dictionaries? Use the three in-built methods in python to display these three view objects for the given dictionary.dict1 = {'Sport': 'Cricket' , 'Teams': ['India', 'Australia', 'England', 'South Africa', 'Sri Lanka', 'New Zealand']}"
      ],
      "metadata": {
        "id": "J-4DScqHSBtE"
      }
    },
    {
      "cell_type": "markdown",
      "source": [
        "In Python, dictionaries have three view objects that allow us to view the keys, values, and key-value pairs of a dictionary without creating new lists or dictionaries. These view objects are:\n",
        "\n",
        "dict_keys: This view object contains the keys of the dictionary.\n",
        "dict_values: This view object contains the values of the dictionary.\n",
        "dict_items: This view object contains the key-value pairs of the dictionary."
      ],
      "metadata": {
        "id": "_J6orjWLSJVX"
      }
    },
    {
      "cell_type": "code",
      "source": [
        "dict1 = {'Sport': 'Cricket' , 'Teams': ['India', 'Australia', 'England', 'South Africa', 'Sri Lanka', 'New Zealand']}\n",
        "\n",
        "# Get dict_keys object\n",
        "keys_view = dict1.keys()\n",
        "print(keys_view)\n",
        "\n",
        "# Get dict_values object\n",
        "values_view = dict1.values()\n",
        "print(values_view)\n",
        "\n",
        "# Get dict_items object\n",
        "items_view = dict1.items()\n",
        "print(items_view)\n"
      ],
      "metadata": {
        "colab": {
          "base_uri": "https://localhost:8080/"
        },
        "id": "vtH-opbbR_VX",
        "outputId": "8955ce2d-747b-47d7-a932-6b37d5714996"
      },
      "execution_count": 3,
      "outputs": [
        {
          "output_type": "stream",
          "name": "stdout",
          "text": [
            "dict_keys(['Sport', 'Teams'])\n",
            "dict_values(['Cricket', ['India', 'Australia', 'England', 'South Africa', 'Sri Lanka', 'New Zealand']])\n",
            "dict_items([('Sport', 'Cricket'), ('Teams', ['India', 'Australia', 'England', 'South Africa', 'Sri Lanka', 'New Zealand'])])\n"
          ]
        }
      ]
    }
  ]
}