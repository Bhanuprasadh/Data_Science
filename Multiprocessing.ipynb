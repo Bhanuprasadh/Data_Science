{
  "nbformat": 4,
  "nbformat_minor": 0,
  "metadata": {
    "colab": {
      "provenance": [],
      "authorship_tag": "ABX9TyMYqcCPtI9uENDlq+p6p8V8",
      "include_colab_link": true
    },
    "kernelspec": {
      "name": "python3",
      "display_name": "Python 3"
    },
    "language_info": {
      "name": "python"
    }
  },
  "cells": [
    {
      "cell_type": "markdown",
      "metadata": {
        "id": "view-in-github",
        "colab_type": "text"
      },
      "source": [
        "<a href=\"https://colab.research.google.com/github/Bhanuprasadh/PythonPW/blob/main/Multiprocessing.ipynb\" target=\"_parent\"><img src=\"https://colab.research.google.com/assets/colab-badge.svg\" alt=\"Open In Colab\"/></a>"
      ]
    },
    {
      "cell_type": "markdown",
      "source": [
        "# Q1. What is multiprocessing in python? Why is it useful?"
      ],
      "metadata": {
        "id": "VYWs3oBzIuYE"
      }
    },
    {
      "cell_type": "markdown",
      "source": [
        "Multiprocessing in Python refers to the ability of the Python interpreter to run multiple processes concurrently. Each process has its own memory space, allowing for true parallelism, unlike threading which shares memory space (though Python's Global Interpreter Lock, or GIL, still exists for certain operations in CPython, limiting parallelism to some extent). Multiprocessing is useful for tasks that can be divided into independent parts that can be executed simultaneously, taking advantage of multi-core processors and improving overall performance and efficiency.\n",
        "\n",
        "Key advantages of multiprocessing in Python include:\n",
        "\n",
        "1. Parallelism: Multiprocessing enables parallel execution of tasks across multiple CPU cores, thus improving performance by utilizing available hardware resources efficiently.\n",
        "\n",
        "2. Improved performance: By distributing tasks among multiple processes, multiprocessing can significantly reduce the time required to complete computations or tasks compared to a single-threaded or single-process approach.\n",
        "\n",
        "3. Isolation: Each process has its own memory space, which helps to prevent issues such as race conditions and data corruption that can occur in multithreaded programs due to shared memory.\n",
        "\n",
        "4. Fault tolerance: Since processes are isolated, errors or crashes in one process are less likely to affect others, enhancing the robustness and reliability of the overall application.\n",
        "\n",
        "Overall, multiprocessing in Python provides a powerful mechanism for leveraging the full potential of multi-core processors and achieving parallelism, which is essential for performance-intensive tasks such as data processing, scientific computing, and concurrent programming."
      ],
      "metadata": {
        "id": "dLRL9dL4I2I_"
      }
    },
    {
      "cell_type": "markdown",
      "source": [
        "# Q2. What are the differences between multiprocessing and multithreading?"
      ],
      "metadata": {
        "id": "yCgXsI46I3l-"
      }
    },
    {
      "cell_type": "markdown",
      "source": [
        "Multiprocessing and multithreading are both techniques used to achieve concurrency in Python, but they differ in how they implement concurrent execution and utilize system resources. Here are the key differences between multiprocessing and multithreading:\n",
        "\n",
        "1. **Execution Model:**\n",
        "   - **Multiprocessing:** In multiprocessing, each process runs in its own separate memory space and has its own Python interpreter and resources. Processes do not share memory by default, which means they have to communicate explicitly through inter-process communication (IPC) mechanisms like pipes, queues, or shared memory.\n",
        "   - **Multithreading:** In multithreading, multiple threads within the same process share the same memory space. Threads are lighter weight than processes and are managed by the operating system's thread scheduler. Threads within a process share the process's resources, including memory, file handles, and other system resources.\n",
        "\n",
        "2. **Concurrency vs. Parallelism:**\n",
        "   - **Multiprocessing:** Multiprocessing achieves true parallelism by running processes concurrently across multiple CPU cores. Since each process has its own Python interpreter and memory space, they can execute independently of each other.\n",
        "   - **Multithreading:** Multithreading achieves concurrency within a single process, but it may not achieve true parallelism due to the Global Interpreter Lock (GIL) in CPython. The GIL allows only one thread to execute Python bytecode at a time, meaning that CPU-bound tasks might not fully utilize multiple CPU cores.\n",
        "\n",
        "3. **Resource Utilization:**\n",
        "   - **Multiprocessing:** Multiprocessing can fully utilize multiple CPU cores and is suitable for CPU-bound tasks or tasks that require heavy computation.\n",
        "   - **Multithreading:** Multithreading is suitable for I/O-bound tasks, such as network operations or disk I/O, where threads can wait for I/O operations to complete without blocking other threads. However, due to the GIL, multithreading might not be as effective for CPU-bound tasks.\n",
        "\n",
        "4. **Memory Overhead:**\n",
        "   - **Multiprocessing:** Since each process has its own memory space, there is a higher memory overhead associated with multiprocessing compared to multithreading.\n",
        "   - **Multithreading:** Threads within the same process share memory, leading to lower memory overhead compared to multiprocessing.\n",
        "\n",
        "In summary, multiprocessing is suitable for CPU-bound tasks that can be divided into independent processes, whereas multithreading is more suitable for I/O-bound tasks and applications that require concurrency within a single process. The choice between multiprocessing and multithreading depends on the nature of the task, the degree of parallelism required, and the resources available."
      ],
      "metadata": {
        "id": "pHn8ZT8lJSjE"
      }
    },
    {
      "cell_type": "markdown",
      "source": [
        "# Q3. Write a python code to create a process using the multiprocessing module."
      ],
      "metadata": {
        "id": "oCjAJlJJJUmk"
      }
    },
    {
      "cell_type": "code",
      "source": [
        "import multiprocessing\n",
        "import os\n",
        "\n",
        "def child_process():\n",
        "    \"\"\"Function to be executed by the child process\"\"\"\n",
        "    print(f\"Child process ID: {os.getpid()}\")\n",
        "    print(\"Hello from the child process!\")\n",
        "\n",
        "if __name__ == \"__main__\":\n",
        "    # Create a Process object and specify the target function\n",
        "    child = multiprocessing.Process(target=child_process)\n",
        "\n",
        "    # Start the child process\n",
        "    child.start()\n",
        "\n",
        "    # Wait for the child process to finish\n",
        "    child.join()\n",
        "\n",
        "    print(\"Child process finished.\")"
      ],
      "metadata": {
        "id": "LFcRkfA9JlDQ"
      },
      "execution_count": null,
      "outputs": []
    },
    {
      "cell_type": "markdown",
      "source": [
        "# Q4. What is a multiprocessing pool in python? Why is it used?"
      ],
      "metadata": {
        "id": "oNI7EGqMJUiq"
      }
    },
    {
      "cell_type": "markdown",
      "source": [
        "A multiprocessing pool in Python refers to a collection of worker processes that are used to distribute tasks across multiple CPU cores efficiently. The `multiprocessing.Pool` class in Python's `multiprocessing` module provides a convenient way to create and manage a pool of worker processes.\n",
        "\n",
        "Here's how a multiprocessing pool works:\n",
        "\n",
        "1. **Initialization:** When you create a `multiprocessing.Pool` object, you specify the number of worker processes to be created. These processes are typically equal to the number of CPU cores available on the system.\n",
        "\n",
        "2. **Task Distribution:** You can submit tasks to the pool using methods like `apply()`, `apply_async()`, `map()`, or `map_async()`. The pool distributes these tasks among its worker processes.\n",
        "\n",
        "3. **Execution:** Each worker process executes its assigned tasks concurrently. Tasks can be executed in parallel, taking advantage of multi-core processors and improving overall performance.\n",
        "\n",
        "4. **Result Collection:** After the tasks are completed, you can collect the results using the corresponding methods. The results are typically returned in the order they were submitted.\n",
        "\n",
        "Multiprocessing pools are used for various purposes, including:\n",
        "\n",
        "- **Parallelizing CPU-bound tasks:** Tasks that require heavy computation and can be divided into independent parts can benefit from multiprocessing pools. By distributing these tasks among multiple processes, multiprocessing pools can significantly reduce the time required to complete computations.\n",
        "\n",
        "- **Asynchronous execution:** Multiprocessing pools support asynchronous execution of tasks using methods like `apply_async()` and `map_async()`. This allows you to submit tasks without blocking the main program flow and collect results later when they become available.\n",
        "\n",
        "- **Improved resource utilization:** By utilizing multiple CPU cores, multiprocessing pools make efficient use of available hardware resources, thereby improving the overall performance of applications.\n",
        "\n",
        "- **Fault tolerance:** Since worker processes operate independently, errors or crashes in one process are less likely to affect others. This enhances the robustness and reliability of concurrent programs.\n",
        "\n",
        "Overall, multiprocessing pools provide a high-level interface for achieving parallelism in Python programs, making them suitable for a wide range of parallel computing tasks, including data processing, scientific computing, and concurrent programming."
      ],
      "metadata": {
        "id": "YktyR03DJUfB"
      }
    },
    {
      "cell_type": "markdown",
      "source": [
        "# Q5. How can we create a pool of worker processes in python using the multiprocessing module?"
      ],
      "metadata": {
        "id": "s2kCBeswJUbI"
      }
    },
    {
      "cell_type": "code",
      "source": [
        "import multiprocessing\n",
        "\n",
        "def square(x):\n",
        "    \"\"\"Function to square a number\"\"\"\n",
        "    return x * x\n",
        "\n",
        "if __name__ == \"__main__\":\n",
        "    # Create a multiprocessing Pool with 4 worker processes\n",
        "    pool = multiprocessing.Pool(processes=4)\n",
        "\n",
        "    # Define a list of numbers\n",
        "    numbers = [1, 2, 3, 4, 5]\n",
        "\n",
        "    # Map the square function to the list of numbers using the pool\n",
        "    results = pool.map(square, numbers)\n",
        "\n",
        "    # Close the pool to prevent any more tasks from being submitted\n",
        "    pool.close()\n",
        "\n",
        "    # Wait for all processes in the pool to finish\n",
        "    pool.join()\n",
        "\n",
        "    # Print the results\n",
        "    print(\"Squared numbers:\", results)\n"
      ],
      "metadata": {
        "id": "Sfm_s3cqKAw1"
      },
      "execution_count": null,
      "outputs": []
    },
    {
      "cell_type": "markdown",
      "source": [
        "We import the multiprocessing module.\n",
        "Define a function square(x) which represents the task to be executed by each worker process. In this case, it squares a number.\n",
        "Inside the if __name__ == \"__main__\": block, we create a multiprocessing pool named pool with 4 worker processes by specifying the processes parameter.\n",
        "We define a list of numbers to be processed.\n",
        "We use the map() method of the pool to apply the square function to each number in the list. This distributes the tasks among the worker processes in the pool.\n",
        "After all tasks have been submitted, we close the pool to prevent any more tasks from being submitted.\n",
        "We call pool.join() to wait for all processes in the pool to finish executing.\n",
        "Finally, we print the results obtained from the pool."
      ],
      "metadata": {
        "id": "xEdVwtPSJURx"
      }
    },
    {
      "cell_type": "markdown",
      "source": [
        "# Q6. Write a python program to create 4 processes, each process should print a different number using the multiprocessing module in python."
      ],
      "metadata": {
        "id": "RY-Iz1jhKGzi"
      }
    },
    {
      "cell_type": "code",
      "source": [
        "import multiprocessing\n",
        "\n",
        "def print_number(number):\n",
        "    \"\"\"Function to print a given number\"\"\"\n",
        "    print(f\"Process {number}: {number}\")\n",
        "\n",
        "if __name__ == \"__main__\":\n",
        "    # Create a list of numbers\n",
        "    numbers = [1, 2, 3, 4]\n",
        "\n",
        "    # Create a list to hold process objects\n",
        "    processes = []\n",
        "\n",
        "    # Create and start a process for each number\n",
        "    for number in numbers:\n",
        "        process = multiprocessing.Process(target=print_number, args=(number,))\n",
        "        processes.append(process)\n",
        "        process.start()\n",
        "\n",
        "    # Wait for all processes to finish\n",
        "    for process in processes:\n",
        "        process.join()"
      ],
      "metadata": {
        "id": "tyFk7JFOIxpr"
      },
      "execution_count": null,
      "outputs": []
    },
    {
      "cell_type": "markdown",
      "source": [
        "We import the multiprocessing module.\n",
        "Define a function print_number(number) which prints the given number along with the process ID.\n",
        "Inside the if __name__ == \"__main__\": block, we create a list of numbers [1, 2, 3, 4].\n",
        "We create an empty list processes to hold the process objects.\n",
        "We iterate over each number in the list and create a separate process for each number. Each process calls the print_number function with the respective number as an argument.\n",
        "We start each process using the start() method.\n",
        "After starting all processes, we wait for each process to finish using the join() method, ensuring that the main program waits for all child processes to complete before exiting.\n"
      ],
      "metadata": {
        "id": "BEZAYQY8KRWF"
      }
    },
    {
      "cell_type": "code",
      "source": [],
      "metadata": {
        "id": "Ztw0uub9Ka22"
      },
      "execution_count": null,
      "outputs": []
    }
  ]
}